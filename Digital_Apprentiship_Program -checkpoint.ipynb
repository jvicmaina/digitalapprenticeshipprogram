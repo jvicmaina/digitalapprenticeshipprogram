{
 "cells": [
  {
   "cell_type": "code",
   "execution_count": null,
   "metadata": {},
   "outputs": [],
   "source": [
    "# Downloading the dataset \n",
    "\n",
    "import requests\n",
    "\n",
    "download_url ='https://raw.githubusercontent.com/onaio/ona-tech/master/data/water_points.json'\n",
    "target_json_path = 'water_points.json'\n",
    "\n",
    "response = requests.get(download_url)\n",
    "response.raise_for_status() #check if request was successful\n",
    "with open(target_json_path, 'wb') as f:\n",
    "    f.write(response.content)\n",
    "\n",
    "print('Download finished.')"
   ]
  },
  {
   "cell_type": "code",
   "execution_count": 6,
   "metadata": {},
   "outputs": [
    {
     "data": {
      "text/plain": [
       "pandas.core.frame.DataFrame"
      ]
     },
     "execution_count": 6,
     "metadata": {},
     "output_type": "execute_result"
    }
   ],
   "source": [
    "import pandas as pd\n",
    "resources = pd.read_json('water_points.json')\n",
    "type(resources)"
   ]
  },
  {
   "cell_type": "code",
   "execution_count": 7,
   "metadata": {},
   "outputs": [
    {
     "data": {
      "text/html": [
       "<div>\n",
       "<style scoped>\n",
       "    .dataframe tbody tr th:only-of-type {\n",
       "        vertical-align: middle;\n",
       "    }\n",
       "\n",
       "    .dataframe tbody tr th {\n",
       "        vertical-align: top;\n",
       "    }\n",
       "\n",
       "    .dataframe thead th {\n",
       "        text-align: right;\n",
       "    }\n",
       "</style>\n",
       "<table border=\"1\" class=\"dataframe\">\n",
       "  <thead>\n",
       "    <tr style=\"text-align: right;\">\n",
       "      <th></th>\n",
       "      <th>water_pay</th>\n",
       "      <th>respondent</th>\n",
       "      <th>research_asst_name</th>\n",
       "      <th>water_used_season</th>\n",
       "      <th>_bamboo_dataset_id</th>\n",
       "      <th>_deleted_at</th>\n",
       "      <th>water_point_condition</th>\n",
       "      <th>_xform_id_string</th>\n",
       "      <th>other_point_1km</th>\n",
       "      <th>_attachments</th>\n",
       "      <th>...</th>\n",
       "      <th>animal_point</th>\n",
       "      <th>water_mechanism_plate</th>\n",
       "      <th>water_lift_mechanism_type</th>\n",
       "      <th>road_type</th>\n",
       "      <th>water_mechanism_plate_units</th>\n",
       "      <th>water_mechanism_plate_no</th>\n",
       "      <th>water_not_functioning</th>\n",
       "      <th>water_source_type_other</th>\n",
       "      <th>simserial</th>\n",
       "      <th>subscriberid</th>\n",
       "    </tr>\n",
       "  </thead>\n",
       "  <tbody>\n",
       "    <tr>\n",
       "      <td>0</td>\n",
       "      <td>no</td>\n",
       "      <td>community</td>\n",
       "      <td>Haruna Mohammed</td>\n",
       "      <td>year_round</td>\n",
       "      <td></td>\n",
       "      <td>NaT</td>\n",
       "      <td>functioning</td>\n",
       "      <td>_08_Water_points_CV</td>\n",
       "      <td>no</td>\n",
       "      <td>[north_ghana/attachments/1351696546452.jpg]</td>\n",
       "      <td>...</td>\n",
       "      <td>yes</td>\n",
       "      <td>NaN</td>\n",
       "      <td>NaN</td>\n",
       "      <td>NaN</td>\n",
       "      <td>NaN</td>\n",
       "      <td>NaN</td>\n",
       "      <td>NaN</td>\n",
       "      <td>NaN</td>\n",
       "      <td>NaN</td>\n",
       "      <td>NaN</td>\n",
       "    </tr>\n",
       "    <tr>\n",
       "      <td>1</td>\n",
       "      <td>no</td>\n",
       "      <td>community</td>\n",
       "      <td>Haruna Mohmmed</td>\n",
       "      <td>year_round</td>\n",
       "      <td></td>\n",
       "      <td>NaT</td>\n",
       "      <td>functioning</td>\n",
       "      <td>_08_Water_points_CV</td>\n",
       "      <td>yes</td>\n",
       "      <td>[north_ghana/attachments/1351701849971.jpg]</td>\n",
       "      <td>...</td>\n",
       "      <td>yes</td>\n",
       "      <td>no</td>\n",
       "      <td>manual_power</td>\n",
       "      <td>gravel</td>\n",
       "      <td>NaN</td>\n",
       "      <td>NaN</td>\n",
       "      <td>NaN</td>\n",
       "      <td>NaN</td>\n",
       "      <td>NaN</td>\n",
       "      <td>NaN</td>\n",
       "    </tr>\n",
       "    <tr>\n",
       "      <td>2</td>\n",
       "      <td>no</td>\n",
       "      <td>community</td>\n",
       "      <td>Haruna Mohammed</td>\n",
       "      <td>year_round</td>\n",
       "      <td></td>\n",
       "      <td>NaT</td>\n",
       "      <td>functioning</td>\n",
       "      <td>_08_Water_points_CV</td>\n",
       "      <td>yes</td>\n",
       "      <td>[north_ghana/attachments/1351702462336.jpg]</td>\n",
       "      <td>...</td>\n",
       "      <td>yes</td>\n",
       "      <td>no</td>\n",
       "      <td>manual_power</td>\n",
       "      <td>paved</td>\n",
       "      <td>NaN</td>\n",
       "      <td>NaN</td>\n",
       "      <td>NaN</td>\n",
       "      <td>NaN</td>\n",
       "      <td>NaN</td>\n",
       "      <td>NaN</td>\n",
       "    </tr>\n",
       "    <tr>\n",
       "      <td>3</td>\n",
       "      <td>no</td>\n",
       "      <td>community</td>\n",
       "      <td>Haruna Mohammed</td>\n",
       "      <td>year_round</td>\n",
       "      <td></td>\n",
       "      <td>NaT</td>\n",
       "      <td>functioning</td>\n",
       "      <td>_08_Water_points_CV</td>\n",
       "      <td>yes</td>\n",
       "      <td>[north_ghana/attachments/1351702971561.jpg]</td>\n",
       "      <td>...</td>\n",
       "      <td>yes</td>\n",
       "      <td>no</td>\n",
       "      <td>manual_power</td>\n",
       "      <td>paved</td>\n",
       "      <td>NaN</td>\n",
       "      <td>NaN</td>\n",
       "      <td>NaN</td>\n",
       "      <td>NaN</td>\n",
       "      <td>NaN</td>\n",
       "      <td>NaN</td>\n",
       "    </tr>\n",
       "    <tr>\n",
       "      <td>4</td>\n",
       "      <td>no</td>\n",
       "      <td>community</td>\n",
       "      <td>Haruna Mohammed</td>\n",
       "      <td>year_round</td>\n",
       "      <td></td>\n",
       "      <td>NaT</td>\n",
       "      <td>functioning</td>\n",
       "      <td>_08_Water_points_CV</td>\n",
       "      <td>yes</td>\n",
       "      <td>[north_ghana/attachments/1351703622326.jpg]</td>\n",
       "      <td>...</td>\n",
       "      <td>yes</td>\n",
       "      <td>no</td>\n",
       "      <td>manual_power</td>\n",
       "      <td>paved</td>\n",
       "      <td>NaN</td>\n",
       "      <td>NaN</td>\n",
       "      <td>NaN</td>\n",
       "      <td>NaN</td>\n",
       "      <td>NaN</td>\n",
       "      <td>NaN</td>\n",
       "    </tr>\n",
       "  </tbody>\n",
       "</table>\n",
       "<p>5 rows × 48 columns</p>\n",
       "</div>"
      ],
      "text/plain": [
       "  water_pay respondent research_asst_name water_used_season  \\\n",
       "0        no  community    Haruna Mohammed        year_round   \n",
       "1        no  community     Haruna Mohmmed        year_round   \n",
       "2        no  community    Haruna Mohammed        year_round   \n",
       "3        no  community    Haruna Mohammed        year_round   \n",
       "4        no  community    Haruna Mohammed        year_round   \n",
       "\n",
       "  _bamboo_dataset_id _deleted_at water_point_condition     _xform_id_string  \\\n",
       "0                            NaT           functioning  _08_Water_points_CV   \n",
       "1                            NaT           functioning  _08_Water_points_CV   \n",
       "2                            NaT           functioning  _08_Water_points_CV   \n",
       "3                            NaT           functioning  _08_Water_points_CV   \n",
       "4                            NaT           functioning  _08_Water_points_CV   \n",
       "\n",
       "  other_point_1km                                 _attachments  ...  \\\n",
       "0              no  [north_ghana/attachments/1351696546452.jpg]  ...   \n",
       "1             yes  [north_ghana/attachments/1351701849971.jpg]  ...   \n",
       "2             yes  [north_ghana/attachments/1351702462336.jpg]  ...   \n",
       "3             yes  [north_ghana/attachments/1351702971561.jpg]  ...   \n",
       "4             yes  [north_ghana/attachments/1351703622326.jpg]  ...   \n",
       "\n",
       "  animal_point water_mechanism_plate water_lift_mechanism_type road_type  \\\n",
       "0          yes                   NaN                       NaN       NaN   \n",
       "1          yes                    no              manual_power    gravel   \n",
       "2          yes                    no              manual_power     paved   \n",
       "3          yes                    no              manual_power     paved   \n",
       "4          yes                    no              manual_power     paved   \n",
       "\n",
       "  water_mechanism_plate_units water_mechanism_plate_no water_not_functioning  \\\n",
       "0                         NaN                      NaN                   NaN   \n",
       "1                         NaN                      NaN                   NaN   \n",
       "2                         NaN                      NaN                   NaN   \n",
       "3                         NaN                      NaN                   NaN   \n",
       "4                         NaN                      NaN                   NaN   \n",
       "\n",
       "  water_source_type_other  simserial subscriberid  \n",
       "0                     NaN        NaN          NaN  \n",
       "1                     NaN        NaN          NaN  \n",
       "2                     NaN        NaN          NaN  \n",
       "3                     NaN        NaN          NaN  \n",
       "4                     NaN        NaN          NaN  \n",
       "\n",
       "[5 rows x 48 columns]"
      ]
     },
     "execution_count": 7,
     "metadata": {},
     "output_type": "execute_result"
    }
   ],
   "source": [
    "resources.head()"
   ]
  },
  {
   "cell_type": "code",
   "execution_count": 8,
   "metadata": {},
   "outputs": [
    {
     "name": "stdout",
     "output_type": "stream",
     "text": [
      "<class 'pandas.core.frame.DataFrame'>\n",
      "RangeIndex: 712 entries, 0 to 711\n",
      "Data columns (total 48 columns):\n",
      "water_pay                      712 non-null object\n",
      "respondent                     712 non-null object\n",
      "research_asst_name             712 non-null object\n",
      "water_used_season              712 non-null object\n",
      "_bamboo_dataset_id             712 non-null object\n",
      "_deleted_at                    0 non-null datetime64[ns]\n",
      "water_point_condition          712 non-null object\n",
      "_xform_id_string               712 non-null object\n",
      "other_point_1km                712 non-null object\n",
      "_attachments                   712 non-null object\n",
      "communities_villages           712 non-null object\n",
      "end                            712 non-null object\n",
      "animal_number                  528 non-null object\n",
      "water_point_id                 712 non-null object\n",
      "start                          712 non-null object\n",
      "water_connected                712 non-null object\n",
      "water_manager_name             708 non-null object\n",
      "_status                        712 non-null object\n",
      "enum_id_1                      712 non-null int64\n",
      "water_lift_mechanism           712 non-null object\n",
      "districts_divisions            712 non-null object\n",
      "_uuid                          712 non-null object\n",
      "grid                           712 non-null object\n",
      "date                           712 non-null datetime64[ns]\n",
      "formhub/uuid                   712 non-null object\n",
      "road_available                 712 non-null object\n",
      "water_functioning              712 non-null object\n",
      "_submission_time               712 non-null datetime64[ns]\n",
      "signal                         712 non-null object\n",
      "water_source_type              712 non-null object\n",
      "_geolocation                   712 non-null object\n",
      "water_point_image              712 non-null object\n",
      "water_point_geocode            709 non-null object\n",
      "deviceid                       712 non-null int64\n",
      "locations_wards                712 non-null object\n",
      "water_manager                  712 non-null object\n",
      "water_developer                712 non-null object\n",
      "_id                            712 non-null int64\n",
      "animal_point                   712 non-null object\n",
      "water_mechanism_plate          649 non-null object\n",
      "water_lift_mechanism_type      649 non-null object\n",
      "road_type                      334 non-null object\n",
      "water_mechanism_plate_units    43 non-null object\n",
      "water_mechanism_plate_no       43 non-null float64\n",
      "water_not_functioning          87 non-null object\n",
      "water_source_type_other        3 non-null object\n",
      "simserial                      5 non-null float64\n",
      "subscriberid                   5 non-null float64\n",
      "dtypes: datetime64[ns](3), float64(3), int64(3), object(39)\n",
      "memory usage: 267.1+ KB\n"
     ]
    }
   ],
   "source": [
    "resources.info()"
   ]
  },
  {
   "cell_type": "code",
   "execution_count": 12,
   "metadata": {},
   "outputs": [
    {
     "data": {
      "text/plain": [
       "(712, 48)"
      ]
     },
     "execution_count": 12,
     "metadata": {},
     "output_type": "execute_result"
    }
   ],
   "source": [
    "resources.shape"
   ]
  },
  {
   "cell_type": "code",
   "execution_count": 21,
   "metadata": {},
   "outputs": [
    {
     "data": {
      "text/plain": [
       "functioning           590\n",
       "broken                 40\n",
       "abandoned              36\n",
       "newly_constructed      28\n",
       "under_construction     16\n",
       "na_dn                   2\n",
       "Name: water_point_condition, dtype: int64"
      ]
     },
     "execution_count": 21,
     "metadata": {},
     "output_type": "execute_result"
    }
   ],
   "source": [
    "# NUMBER OF WATER POINTS THAT ARE FUNCTUIONAL\n",
    "\n",
    "resources['water_point_condition'].value_counts()"
   ]
  },
  {
   "cell_type": "code",
   "execution_count": 1,
   "metadata": {},
   "outputs": [
    {
     "ename": "NameError",
     "evalue": "name 'df' is not defined",
     "output_type": "error",
     "traceback": [
      "\u001b[1;31m---------------------------------------------------------------------------\u001b[0m",
      "\u001b[1;31mNameError\u001b[0m                                 Traceback (most recent call last)",
      "\u001b[1;32m<ipython-input-1-793ef2b6a31c>\u001b[0m in \u001b[0;36m<module>\u001b[1;34m\u001b[0m\n\u001b[0;32m      1\u001b[0m \u001b[1;32mimport\u001b[0m \u001b[0mpandas\u001b[0m \u001b[1;32mas\u001b[0m \u001b[0mpd\u001b[0m\u001b[1;33m\u001b[0m\u001b[1;33m\u001b[0m\u001b[0m\n\u001b[0;32m      2\u001b[0m \u001b[1;33m\u001b[0m\u001b[0m\n\u001b[1;32m----> 3\u001b[1;33m \u001b[0mresources\u001b[0m \u001b[1;33m=\u001b[0m \u001b[0mdf\u001b[0m\u001b[1;33m[\u001b[0m\u001b[0mdf\u001b[0m\u001b[1;33m[\u001b[0m\u001b[1;34m'water_point_condition'\u001b[0m\u001b[1;33m]\u001b[0m\u001b[1;33m==\u001b[0m\u001b[1;34m'functioning'\u001b[0m\u001b[1;33m]\u001b[0m\u001b[1;33m\u001b[0m\u001b[1;33m\u001b[0m\u001b[0m\n\u001b[0m\u001b[0;32m      4\u001b[0m \u001b[0mresources\u001b[0m\u001b[1;31m#.iloc[0:5, 1:4]\u001b[0m\u001b[1;33m\u001b[0m\u001b[1;33m\u001b[0m\u001b[0m\n",
      "\u001b[1;31mNameError\u001b[0m: name 'df' is not defined"
     ]
    }
   ],
   "source": [
    "import pandas as pd\n",
    "\n",
    "resources = df[df['water_point_condition']=='functioning']\n",
    "resources#.iloc[0:5, 1:4]"
   ]
  },
  {
   "cell_type": "code",
   "execution_count": null,
   "metadata": {},
   "outputs": [],
   "source": []
  }
 ],
 "metadata": {
  "kernelspec": {
   "display_name": "Python 3",
   "language": "python",
   "name": "python3"
  },
  "language_info": {
   "codemirror_mode": {
    "name": "ipython",
    "version": 3
   },
   "file_extension": ".py",
   "mimetype": "text/x-python",
   "name": "python",
   "nbconvert_exporter": "python",
   "pygments_lexer": "ipython3",
   "version": "3.7.4"
  }
 },
 "nbformat": 4,
 "nbformat_minor": 2
}
